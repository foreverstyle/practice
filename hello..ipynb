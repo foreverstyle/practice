{
 "cells": [
  {
   "cell_type": "code",
   "execution_count": 1,
   "metadata": {},
   "outputs": [
    {
     "name": "stdout",
     "output_type": "stream",
     "text": [
      "1\n",
      "hello world\n",
      "2\n",
      "hello world\n",
      "3\n",
      "hello world\n",
      "4\n",
      "hello world\n",
      "5\n",
      "hello world\n",
      "6\n",
      "hello world\n",
      "7\n",
      "hello world\n",
      "8\n",
      "hello world\n",
      "9\n",
      "hello world\n",
      "10\n",
      "hello world\n"
     ]
    }
   ],
   "source": [
    "for i in range(1, 11):\n",
    "    print(i)\n",
    "    print('hello world')"
   ]
  },
  {
   "cell_type": "code",
   "execution_count": 2,
   "metadata": {},
   "outputs": [
    {
     "name": "stdout",
     "output_type": "stream",
     "text": [
      "hello world\n",
      "i\n",
      "hello world\n",
      "i\n",
      "hello world\n",
      "i\n",
      "hello world\n",
      "i\n",
      "hello world\n",
      "i\n",
      "hello world\n",
      "i\n",
      "hello world\n",
      "i\n",
      "hello world\n",
      "i\n",
      "hello world\n",
      "i\n",
      "hello world\n",
      "i\n"
     ]
    }
   ],
   "source": [
    "for i in range(1, 11):\n",
    "    print('hello world')\n",
    "    print('i')"
   ]
  }
 ],
 "metadata": {
  "kernelspec": {
   "display_name": "Python 3",
   "language": "python",
   "name": "python3"
  },
  "language_info": {
   "codemirror_mode": {
    "name": "ipython",
    "version": 3
   },
   "file_extension": ".py",
   "mimetype": "text/x-python",
   "name": "python",
   "nbconvert_exporter": "python",
   "pygments_lexer": "ipython3",
   "version": "3.10.8"
  }
 },
 "nbformat": 4,
 "nbformat_minor": 2
}
